{
 "cells": [
  {
   "cell_type": "markdown",
   "metadata": {},
   "source": [
    "## 練習時間\n",
    "相信大家目前都能夠初步了解機器學習專案的流程及步驟，今天的作業希望大家能夠看看全球機器學習巨頭們在做的機器學習專案。以 google 為例，下圖是 Google 內部專案使用機器學習的數量，隨著時間進展，現在早已超過 2000 個專案在使用 ML。"
   ]
  },
  {
   "cell_type": "markdown",
   "metadata": {},
   "source": [
    "![image](https://cdn-images-1.medium.com/max/800/1*U_L8qI8RmYS-MOBrYvXhSA.png)"
   ]
  },
  {
   "cell_type": "markdown",
   "metadata": {},
   "source": [
    "底下幫同學整理幾間知名企業的 blog 或機器學習網站 (自行搜尋也可)，請挑選一篇文章閱讀並試著回答\n",
    "1. 專案的目標？ (要解決什麼問題）\n",
    "2. 使用的技術是？ (只需知道名稱即可，例如：使用 CNN 卷積神經網路做影像分類)\n",
    "3. 資料來源？ "
   ]
  },
  {
   "cell_type": "markdown",
   "metadata": {},
   "source": [
    "- [Google AI blog](https://ai.googleblog.com/)\n",
    "- [Facebook Research blog](https://research.fb.com/blog/)\n",
    "- [Apple machine learning journal](https://machinelearning.apple.com/)\n",
    "- [機器之心](https://www.jiqizhixin.com/)\n",
    "- [雷鋒網](http://www.leiphone.com/category/ai)"
   ]
  },
  {
   "attachments": {},
   "cell_type": "markdown",
   "metadata": {},
   "source": [
    "谷歌新模型提升肺癌筛查率：相关研究登上Nature Medicine\n",
    "\n",
    "ANS:\n",
    "專案的目標？==> 能夠幫助提升全世界很多病患的存活率，有助於早期肺癌CT篩查。\n",
    "\n",
    "使用的技術是？==> 放射科医生在一次 CT 扫描中通常需要查看数百张 2D 图像，而癌症是很微小也很难看到的。谷歌研究者创建了一个模型，该模型不仅能够生成肺癌恶性肿瘤整体预测，还可以识别出肺部不易被察觉的恶性组织（肺结节）。该模型还可以将之前的扫描结果考虑在内，帮助预测肺癌风险，因为肺结节的增长速度有可能预示着有恶性肿瘤的存在。\n",
    "谷歌研究者提出了一種深度學習算法，利用病患當前和以前的 CT 來預測肺癌風險。他們提出的模型在 6716 個美國國家肺癌篩查試驗病例上取得了當前最佳的效果（曲線下面積為 94.4%），並在包含 1139 個病例的獨立臨床驗證集上獲得了類似的性能。\n",
    "\n",
    "資料來源？==> 機器之心網站\n",
    "網址：https://www.jiqizhixin.com/articles/2019-05-21-12\n",
    "    "
   ]
  },
  {
   "cell_type": "code",
   "execution_count": null,
   "metadata": {},
   "outputs": [],
   "source": []
  }
 ],
 "metadata": {
  "kernelspec": {
   "display_name": "Python 3",
   "language": "python",
   "name": "python3"
  },
  "language_info": {
   "codemirror_mode": {
    "name": "ipython",
    "version": 3
   },
   "file_extension": ".py",
   "mimetype": "text/x-python",
   "name": "python",
   "nbconvert_exporter": "python",
   "pygments_lexer": "ipython3",
   "version": "3.7.3"
  }
 },
 "nbformat": 4,
 "nbformat_minor": 2
}
